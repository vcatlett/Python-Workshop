{
 "cells": [
  {
   "cell_type": "markdown",
   "metadata": {},
   "source": [
    "# SPS Python Workshop: Functions\n",
    "## Simple Math\n",
    "You can do math on floats and integers relatively easily. Addition, subtraction, multiplication, and division are defined by ```+```,```-```,```*```, and ```/```, respectively. "
   ]
  },
  {
   "cell_type": "code",
   "execution_count": 1,
   "metadata": {},
   "outputs": [
    {
     "name": "stdout",
     "output_type": "stream",
     "text": [
      "46\n"
     ]
    }
   ],
   "source": [
    "# Task) Find the product of 17 and 3, then subtract 5. Print the result. \n",
    "\n",
    "# your code here\n",
    "my_answer = 17*3 - 5\n",
    "print(my_answer)"
   ]
  },
  {
   "cell_type": "code",
   "execution_count": 2,
   "metadata": {},
   "outputs": [
    {
     "name": "stdout",
     "output_type": "stream",
     "text": [
      "<class 'float'>\n"
     ]
    }
   ],
   "source": [
    "# Task) Determine what kind of variable you get when you divide 18 by 3 (both integers). \n",
    "#       Is it what you expected?\n",
    "\n",
    "# your code here\n",
    "my_number = 18/3\n",
    "print(type(my_number))"
   ]
  },
  {
   "cell_type": "markdown",
   "metadata": {},
   "source": [
    "## Built-In Functions\n",
    "In addition to ```+```,```-```,```*```, and ```/```, many other common functions are built into Python. Here are a few examples:\n",
    "\n",
    "```abs(your_number)``` returns the absolute value of a number\n",
    "\n",
    "```sum(your_list)``` returns the sum of a numerical list\n",
    "\n",
    "```min(your_list)``` returns the minimum of a numerical list\n",
    "\n",
    "```max(your_list)``` returns the maximum of a numerical list\n",
    "\n",
    "```range(int1, int2, int3)``` returns a list from int1 to int2 (not including int2) in steps of int3\n",
    "\n",
    "```range(your_integer)``` returns a list from 0 to (your_integer - 1) in steps of 1"
   ]
  },
  {
   "cell_type": "code",
   "execution_count": 48,
   "metadata": {},
   "outputs": [],
   "source": [
    "# Task) Find the sum of the minimum and maximum of [1,2,3,4]\n",
    "\n",
    "# your code here"
   ]
  },
  {
   "cell_type": "markdown",
   "metadata": {},
   "source": [
    "## Logical Operators\n",
    "### Boolean Operators\n",
    "**Boolean operators** evaluate if something to a boolean, that is, they determine if a statement is True or False. \n",
    "The operators \"and,\" \"or,\" and \"not\" are ```and```, ```or```, and ```not``` in Python (that's nice!).\n",
    "\n",
    "Here is an example using boolean operators:\n",
    "\n",
    "```test_boolean = True and False```\n",
    "\n",
    "```test_boolean``` will be False.\n",
    "### Comparison Operators\n",
    "**Comparison operators**, as their name suggests, compare two values. They are as follows:\n",
    "\n",
    "|Operator|English Equivalent|\n",
    "|:--:|:----------:|\n",
    "|<|\"Less than\"|\n",
    "|<=|\"Less than or equal to\"|\n",
    "|>|\"Greater than\"|\n",
    "|>=|\"Greater than or equal to\"|\n",
    "|==|\"Equal to\"|\n",
    "|!=|\"Not equal to\"|\n",
    "\n",
    "Here is an example using comparison operators:\n",
    "\n",
    "```test_comparison = 3 <= 7```\n",
    "\n",
    "```test_comparison``` will be True. "
   ]
  },
  {
   "cell_type": "code",
   "execution_count": 33,
   "metadata": {},
   "outputs": [],
   "source": [
    "# Task) Determine if the following statement is True or False:\n",
    "#       not ((20 is less than or equal to 19) and (7.1 is not equal to 8))\n",
    "\n",
    "# your code here"
   ]
  },
  {
   "cell_type": "markdown",
   "metadata": {},
   "source": [
    "Now we have to start paying attention to **indentations**.\n",
    "## While Loops\n",
    "A **while loop** will evaluate whatever is inside while a given condition is true. The cell below will show you how to construct a while loop, and the example will add consecutive numbers until the sum is greater than 10. "
   ]
  },
  {
   "cell_type": "code",
   "execution_count": 25,
   "metadata": {},
   "outputs": [
    {
     "name": "stdout",
     "output_type": "stream",
     "text": [
      "The sum is 10, and the last number is 5\n"
     ]
    }
   ],
   "source": [
    "'''\n",
    "A while loop is constructed like this:\n",
    "\n",
    "while condition:\n",
    "    # stuff to do\n",
    "    \n",
    "Be careful, if you're not careful, it will go on forever!\n",
    "'''\n",
    "\n",
    "while_number = 0 # Start with 0\n",
    "while_sum = 0 # Start with a sum of 0\n",
    "\n",
    "while while_sum < 10:\n",
    "    while_sum = while_sum + while_number # Add the number to the sum\n",
    "    while_number = while_number + 1 # Increase the number by 1\n",
    "\n",
    "# This next line won't execute until the loop is done\n",
    "print(\"The sum is %i, and the last number is %i\"%(while_sum,while_number))"
   ]
  },
  {
   "cell_type": "code",
   "execution_count": 50,
   "metadata": {},
   "outputs": [],
   "source": [
    "# Task) Construct a while loop which starts with the number 100 \n",
    "#       and keeps subtracting 7 until the number is less than 30\n",
    "\n",
    "# your code here"
   ]
  },
  {
   "cell_type": "markdown",
   "metadata": {},
   "source": [
    "## For Loops\n",
    "A **for loop** will evaluate a certain number of times before stopping. The cell below will show you how to construct a for loop, and the example will add the numbers 1 through 10. "
   ]
  },
  {
   "cell_type": "code",
   "execution_count": 44,
   "metadata": {},
   "outputs": [
    {
     "name": "stdout",
     "output_type": "stream",
     "text": [
      "55\n"
     ]
    }
   ],
   "source": [
    "'''\n",
    "A for loop is constructed like this:\n",
    "\n",
    "for i in your_list:\n",
    "    # what to do for each i in the list\n",
    "    \n",
    "Unlike a while loop, this will not go on forever.\n",
    "It will only evaluate as many times as the length of your_list.\n",
    "Notice the indentations!\n",
    "'''\n",
    "\n",
    "for_sum = 0 # Start with a sum of 0\n",
    "for i in range(1,11,1):\n",
    "    for_sum += i # A faster way to write \"for_sum = for_sum + i\"\n",
    "\n",
    "print(for_sum)"
   ]
  },
  {
   "cell_type": "code",
   "execution_count": null,
   "metadata": {},
   "outputs": [],
   "source": [
    "# Task) Construct a for loop which adds the even numbers from 0 to 100, inclusive\n",
    "\n",
    "# your code here"
   ]
  },
  {
   "cell_type": "markdown",
   "metadata": {},
   "source": [
    "## Making Your Own Functions\n",
    "The built-in functions are great, but they don't cover every function you could possibly think of. Thankfully, you can make your own, but pay attention to indentations! \n",
    "\n",
    "The cell below will show you how to construct a simple function, and the example will return the sum and difference of two numbers."
   ]
  },
  {
   "cell_type": "code",
   "execution_count": 22,
   "metadata": {},
   "outputs": [
    {
     "name": "stdout",
     "output_type": "stream",
     "text": [
      "Sum = 7, Difference = -1\n"
     ]
    }
   ],
   "source": [
    "'''\n",
    "A function should be defined as follows:\n",
    "\n",
    "def function_name(your_inputs)\n",
    "    # type all of the operations\n",
    "    return your_outputs\n",
    "    \n",
    "Make sure everything inside of the function is INDENTED\n",
    "'''\n",
    "\n",
    "def sum_diff(a,b):\n",
    "    c = a + b\n",
    "    d = a - b\n",
    "    return c, d\n",
    "\n",
    "'''\n",
    "Once you define a function, you can save the outputs it generates from any valid inputs:\n",
    "\n",
    "[output_values] = function_name[input_values]\n",
    "\n",
    "Below, we will save the sum and difference of 3 and 4.\n",
    "'''\n",
    "\n",
    "[test_sum, test_diff] = sum_diff(3,4)\n",
    "print(\"Sum = %i, Difference = %i\"%(test_sum,test_diff))"
   ]
  }
 ],
 "metadata": {
  "kernelspec": {
   "display_name": "Python 3",
   "language": "python",
   "name": "python3"
  },
  "language_info": {
   "codemirror_mode": {
    "name": "ipython",
    "version": 3
   },
   "file_extension": ".py",
   "mimetype": "text/x-python",
   "name": "python",
   "nbconvert_exporter": "python",
   "pygments_lexer": "ipython3",
   "version": "3.7.3"
  }
 },
 "nbformat": 4,
 "nbformat_minor": 2
}
