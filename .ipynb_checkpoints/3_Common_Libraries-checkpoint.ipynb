{
 "cells": [
  {
   "cell_type": "markdown",
   "metadata": {},
   "source": [
    "# Python Workshop: Common Libraries\n",
    "## Installing Packages\n",
    "Thankfully, Python has been around long enough that most people have done the hard work for us. Most functions already exist and are packaged nicely in libraries or packages for anyone to use. Libraries and packages are not exactly the same thing, but for this purpose, I will use the terms interchangeably. \n",
    "\n",
    "Many of the common ones are included when you install Anaconda. If you need a library/package and it's not already on your computer, it should be easy to install. \n",
    "\n",
    "The preferred installer program, called \"pip,\" should install along with Anaconda. You can use this to download packages you need by typing\n",
    "\n",
    "```pip install package_name``` \n",
    "\n",
    "in your terminal. \n",
    "\n",
    "## Using Packages\n",
    "Once you have a package on your computer, you must load it at the top of your code. The simplest way to do this is ```import package_name```\n",
    "\n",
    "Now, you can use any function in that package by typing ```package_name.function_name ```.\n",
    "\n",
    "Sometimes, the package name is really long, which would be a pain to type over and over. In that case, you can refer to it by a shorter name by importing the package with ```import package_name as short_name```.\n",
    "\n",
    "If you know exactly which functions you want, you can import individual functions using ```from package_name import function_name```, or you can import *everything* using ```from package_name import *```."
   ]
  },
  {
   "cell_type": "markdown",
   "metadata": {},
   "source": [
    "### NumPy \n",
    "**NumPy** stands for Numerical Python. It can compute almost any mathematical function you can think of, and it is highly optimized so that its functions run quickly. It also contains a lot of constants, such as pi! [Here](https://docs.scipy.org/doc/numpy-1.13.0/reference/routines.math.html) is a list of some of its capabilities."
   ]
  },
  {
   "cell_type": "code",
   "execution_count": 2,
   "metadata": {},
   "outputs": [
    {
     "name": "stdout",
     "output_type": "stream",
     "text": [
      "1.0\n"
     ]
    }
   ],
   "source": [
    "# This example will use pi and sin() from NumPy to evaluate sin(pi/2)\n",
    "import numpy as np\n",
    "\n",
    "pi = np.pi\n",
    "\n",
    "print(np.sin(pi/2))"
   ]
  },
  {
   "cell_type": "code",
   "execution_count": 3,
   "metadata": {},
   "outputs": [],
   "source": [
    "# Task) Evaluate the cosine of pi/6 using NumPy.\n",
    "#\n",
    "#       Write your code below\n",
    "\n",
    "\n",
    "# Now try to find sin(pi). Is it what you expected?\n",
    "\n"
   ]
  },
  {
   "cell_type": "markdown",
   "metadata": {},
   "source": [
    "### Matplotlib\n",
    "**Matplotlib** can create many different types of plots. Many of the super useful functions are located in **matplotlib.pyplot**, such as the ```figure()``` function, which generates a blank figure, and the ```plot()``` function which makes a plot on such a figure.\n",
    "\n",
    "The ```scatter()``` function works well for discrete points. By default, it plots x and y points as blue circles. However, you can specify **key work arguments (kwargs)** to manipulate things like the color and style of the points. Kwargs go after all of the inputs which the function requires. A full list of accepted kwargs for this function can be found in its [documentation](https://matplotlib.org/3.1.1/api/_as_gen/matplotlib.pyplot.scatter.html). The example below will make a scatter plot by specifying kwargs for the color and shape of points. "
   ]
  },
  {
   "cell_type": "code",
   "execution_count": 5,
   "metadata": {},
   "outputs": [
    {
     "data": {
      "text/plain": [
       "<matplotlib.collections.PathCollection at 0x114b79ef0>"
      ]
     },
     "execution_count": 5,
     "metadata": {},
     "output_type": "execute_result"
    },
    {
     "data": {
      "image/png": "[encoded data removed]",
      "text/plain": [
       "<Figure size 432x288 with 1 Axes>"
      ]
     },
     "metadata": {
      "needs_background": "light"
     },
     "output_type": "display_data"
    }
   ],
   "source": [
    "import matplotlib.pyplot as plt\n",
    "\n",
    "%matplotlib inline \n",
    "# ^This makes the plots show up between the cells\n",
    "\n",
    "sample_x = [1, 2, 3, 4, 5]\n",
    "sample_y = [1, 4, 9, 16, 25]\n",
    "plt.scatter(sample_x, sample_y, color = 'red', marker = 'v') # This plots red triangles!"
   ]
  },
  {
   "cell_type": "markdown",
   "metadata": {},
   "source": [
    "### Pandas\n",
    "**Pandas** is a powerful library for working with large amounts of data in array-like structures. It can read data in many forms, such as from Excel files, text files, CSVs, FITS files, you name it. \n",
    "\n",
    "In the next example, we will read in data from an Excel file that should be in the same directory (folder) as this Jupyter Notebook."
   ]
  },
  {
   "cell_type": "code",
   "execution_count": 6,
   "metadata": {},
   "outputs": [
    {
     "data": {
      "text/plain": [
       "[<matplotlib.lines.Line2D at 0x114cf8a20>]"
      ]
     },
     "execution_count": 6,
     "metadata": {},
     "output_type": "execute_result"
    },
    {
     "data": {
      "image/png": "[encoded data removed]",
      "text/plain": [
       "<Figure size 432x288 with 1 Axes>"
      ]
     },
     "metadata": {
      "needs_background": "light"
     },
     "output_type": "display_data"
    }
   ],
   "source": [
    "import pandas as pd\n",
    "\n",
    "data = pd.read_excel('sample_data.xlsx') # Reads the Excel file and makes it like an array\n",
    "x = data['x']                            # Making the column called \"x\" the x-values for our plot\n",
    "y = data['sin_x']                        # Making the column called \"sin_x\" the y-values for our plot\n",
    "plt.plot(x,y)"
   ]
  },
  {
   "cell_type": "code",
   "execution_count": 28,
   "metadata": {},
   "outputs": [],
   "source": [
    "# Task) \"sample_data.xlsx\" has two more columns, called \"cos_x\" and \"sum_sin_cos\"\n",
    "#       Using Pandas and Matplotlib and the same x-values as the example, \n",
    "#       plot the values \"cos_x\" in red, the values of \"sin_x\" in blue\n",
    "#       and the values of \"sum_sin_cos\" in black\n",
    "#          Hint: plot() has similar kwargs to scatter()\n",
    "#          and you can use plot() multiple times in a row\n",
    "#\n",
    "#       Write your code below\n",
    "\n"
   ]
  },
  {
   "cell_type": "markdown",
   "metadata": {},
   "source": [
    "### SciPy\n",
    "**SciPy** stands for Scientific Python. It is similar to NumPy, but it has more functions which are directly related to scientific applications, such as Fourier Transforms and ODE solvers. It also contains a lot of scientific constants in **scipy.constants**. \n",
    "\n",
    "In this example, we'll use the function ```scipy.stats.norm.pdf``` to make a Gaussian distribution with our own $\\mu$ and $\\sigma$. "
   ]
  },
  {
   "cell_type": "code",
   "execution_count": 4,
   "metadata": {},
   "outputs": [
    {
     "data": {
      "text/plain": [
       "[<matplotlib.lines.Line2D at 0x1a179003c8>]"
      ]
     },
     "execution_count": 4,
     "metadata": {},
     "output_type": "execute_result"
    },
    {
     "data": {
      "image/png": "[encoded data removed]",
      "text/plain": [
       "<Figure size 432x288 with 1 Axes>"
      ]
     },
     "metadata": {
      "needs_background": "light"
     },
     "output_type": "display_data"
    }
   ],
   "source": [
    "from scipy.stats import norm\n",
    "\n",
    "mu = 1\n",
    "sigma = 2\n",
    "x = np.linspace(-5,5,100) # Creates 100 equally-spaced numbers between -5 and 5\n",
    "y = norm.pdf(x,mu,sigma)\n",
    "plt.plot(x,y)"
   ]
  },
  {
   "cell_type": "code",
   "execution_count": 7,
   "metadata": {},
   "outputs": [],
   "source": [
    "# Task) Plot three different Gaussian distributions (in different colors!) where x ranges from -10 to 10\n",
    "#\n",
    "#       Write your code below\n",
    "\n"
   ]
  }
 ],
 "metadata": {
  "kernelspec": {
   "display_name": "Python 3",
   "language": "python",
   "name": "python3"
  },
  "language_info": {
   "codemirror_mode": {
    "name": "ipython",
    "version": 3
   },
   "file_extension": ".py",
   "mimetype": "text/x-python",
   "name": "python",
   "nbconvert_exporter": "python",
   "pygments_lexer": "ipython3",
   "version": "3.7.3"
  }
 },
 "nbformat": 4,
 "nbformat_minor": 2
}
