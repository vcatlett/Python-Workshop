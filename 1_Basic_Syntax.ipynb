{
 "cells": [
  {
   "cell_type": "markdown",
   "metadata": {},
   "source": [
    "# Python Workshop: Basic Syntax and Variables\n",
    "## Some Comments on Structure\n",
    "Unlike some languages, you don't need semicolons at the end of every line! However, you do have to pay attention to how you *indent* lines. This will pop up when we start working with functions.\n",
    "\n",
    "Most Integrated Development Environments (IDEs) will color-code everything in your program. In Jupyter, for example, words which already exist as something in Python will turn green. \n",
    "## Print Statements and Comments\n",
    "Two things to immediately become familiar with are **print statements** and **comments**. They will help you figure out what is happening in your code and make it much easier to read.\n",
    "#### Print Statements\n",
    "```print()``` displays whatever is inside of the parenthesis. You can print multiple things in the same line by separating them with commas. These are very useful to check that everything is working correctly (or to find a problem!). \n",
    "#### Comments\n",
    "Comments are used to annotate code to make it easier to understand. Use a ```#``` sign at the beginning of a line to make a single-line comment, or use two sets of ```\"\"\"``` or ```'''``` to mark the beginning and end of longer comments. \n",
    "\n",
    "Comments *really* help when sharing your code with others, and it helps you when you revisit old code!"
   ]
  },
  {
   "cell_type": "code",
   "execution_count": 21,
   "metadata": {},
   "outputs": [
    {
     "name": "stdout",
     "output_type": "stream",
     "text": [
      "Great, comments are awesome!\n"
     ]
    }
   ],
   "source": [
    "# Here's an example of a single-line comment. It's blue!\n",
    "\n",
    "'''\n",
    "Here's an example of a multi-line comment. It's red!\n",
    "You can type anything you want in your comments. \n",
    "The computer will ignore them when running code.\n",
    "'''\n",
    "\n",
    "print(\"Great, comments are awesome!\") # Comments can even go after lines of code.\n",
    "\n",
    "# Notice that \"print\" is green, meaning it's a word in Python"
   ]
  },
  {
   "cell_type": "code",
   "execution_count": 22,
   "metadata": {},
   "outputs": [],
   "source": [
    "# Your turn!\n",
    "# Task) Print any whole number, then make a multi-line comment\n",
    "#\n",
    "#       Write your code below\n"
   ]
  },
  {
   "cell_type": "markdown",
   "metadata": {},
   "source": [
    "## Variables\n",
    "Variables store the values of something so you can reference it later. They are useful when the same value is used so many times in your code that changing each instance by hand would be a pain. To define a variable, simply type\n",
    "```variable_name = variable_value``` (with the actual name and value of the variable). For example, I can create a variable which stores my age:\n",
    "\n",
    "```my_age = 20```\n",
    "\n",
    "Imagine I had typed 20 everywhere in my code to do some math involving my age. What happens on my birthday? Well, I'd have to change every 20 to a 21 in my code. That could get tedious, and I could miss some. Instead, if I defined the variable ```my_age```, I would use that everywhere in the code. Then, when I need to change the value, I only have to edit the definition of ```my_age```. \n",
    "### Booleans\n",
    "A **boolean** is either True (1) or False (0). \n",
    "### Integers\n",
    "An **integer** is any whole number *without* a decimal point (... -2, -1, 0, 1, 2 ...).\n",
    "### Floats\n",
    "**Floats** are essentially numbers *with* a decimal point (3.14, 100.0001, etc.). If a whole number has a decimal point (such as 7.), it's considered a float.\n",
    "\n",
    "You can define numbers in scientific notation using ```E``` to represent \"10^\". For example, ```3.00E8``` means 3.00*(10^8).\n",
    "### Strings\n",
    "**Strings** are collections of characters surrounded by single or double quotation marks ('Hello!', \"1234\", \"etc.\"). \n",
    "To include quotation marks or apostrophes *inside* a string, use a ```\\``` in front of them. For example, \"I said \"Let's read Feynman's lectures\"\" can be written as\n",
    "\n",
    "```my_string = \"I said \\\"Let\\'s read Feynman\\'s lectures\\\"\"```\n",
    "\n",
    "\n",
    "*Note:* You do not have to say what type of variable you are defining; Python will know. This is different from many other programming languages."
   ]
  },
  {
   "cell_type": "code",
   "execution_count": 9,
   "metadata": {},
   "outputs": [],
   "source": [
    "# Task) Create and print 3 variables: \n",
    "#       the integer 2019, the float 6.7x10^-11, and the string \"Temoc says \"Whoosh\"\"\n",
    "#\n",
    "#       Write your code below\n"
   ]
  },
  {
   "cell_type": "markdown",
   "metadata": {},
   "source": [
    "## Data Structures \n",
    "While variables can only store one value each, **data structures** can store many. Here are a few of the most common data structures used in Python.\n",
    "### Lists\n",
    "A **list** is a set of values, such as numbers or strings. Define a list by listing elements separated by commas inside of square brackets. That is, to create a list called \"my_list\" with the elements 1, 2, 3, and 4, you would type the following:\n",
    "\n",
    "```my_list = [1, 2, 3, 4]```\n",
    "\n",
    "#### List Elements\n",
    "Individual elements in the list are given by ```list_name[index]```, where the index is the location of the element in the list. Python uses *zero-based indexing*, so the first element is actually element 0. \n",
    "\n",
    "```first_number = my_list[0]```\n"
   ]
  },
  {
   "cell_type": "code",
   "execution_count": 23,
   "metadata": {},
   "outputs": [],
   "source": [
    "# Task) Create 2 lists of integers with 3 elements each. \n",
    "#\n",
    "#       Write your code below\n"
   ]
  },
  {
   "cell_type": "markdown",
   "metadata": {},
   "source": [
    "### Arrays\n",
    "An **array** is a matrix. You define an array by essentially making a list of lists. For example, if you want to make the following 3x4 matrix with consecutive elements\n",
    "\n",
    "$$\\begin{pmatrix} 1 & 2 & 3 & 4 \\\\ 5 & 6 & 7 & 8 \\\\ 9 & 10 & 11 & 12 \\end{pmatrix}$$\n",
    "\n",
    "you would need to create a list whose elements are the rows of the matrix:\n",
    "\n",
    "```my_array = [[1,2,3,4],[5,6,7,8],[9,10,11,12]]```\n",
    "\n",
    "#### Array Elements\n",
    "Referencing an element in an array is similar to referencing an element in a list, just with two indices. \n",
    "\n",
    "```my_array[i][j]``` references an element in row *i* and column *j* of ```my_array```."
   ]
  },
  {
   "cell_type": "code",
   "execution_count": 24,
   "metadata": {},
   "outputs": [],
   "source": [
    "# Task) Make an array with the lists you created in the previous task.\n",
    "#\n",
    "#       Write your code below\n"
   ]
  },
  {
   "cell_type": "markdown",
   "metadata": {},
   "source": [
    "### Dictionaries\n",
    "A **dictionary** in Python is a data structure which stores a set of important objects, called **keys**, and their associated **values**. To understand what this means, consider an actual dictionary. It contains words, and each word has associated definitions. In this case, the words themselves are the keys, and the definitions are the values. A Python dictionary consists of a list of ```key:value``` pairs inside of curly braces:\n",
    "\n",
    "```my_dictionary = {'Year':2019, 'School':'UTD', 'Count':[1,2,3], 'Hotel':'Trivago'}```\n",
    "\n",
    "*Note:* Keys should be strings or integers. Values can be any data structure or variable, even another dictionary!\n",
    "\n",
    "#### Dictionary Elements\n",
    "```dictionary_name[key]``` finds the value(s) associated with a known key in the dictionary. \n",
    "\n",
    "For example, ```my_dictionary['School']``` will give you ```'UTD'```."
   ]
  },
  {
   "cell_type": "code",
   "execution_count": 25,
   "metadata": {},
   "outputs": [],
   "source": [
    "# Task) From the dictionary below, the value for the key 'Count' is a list. Print the 2nd element of that list. \n",
    "\n",
    "my_dictionary = {'Year':2019, 'School':'UTD', 'Count':[1,2,3], 'Hotel':'Trivago'}\n",
    "\n",
    "#       Write your code below\n",
    "\n",
    "\n"
   ]
  },
  {
   "cell_type": "markdown",
   "metadata": {},
   "source": [
    "## Determining Variable Types\n",
    "If you cannot determine a variable's type, put the variable's name inside of the parentheses of ```type()``` and print the value."
   ]
  },
  {
   "cell_type": "code",
   "execution_count": 26,
   "metadata": {},
   "outputs": [],
   "source": [
    "# Task) Determine what type of variable \"test_variable\" is, then print the result\n",
    "\n",
    "test_variable = \"1234.56\"\n",
    "\n",
    "#       Write your code below\n",
    "\n",
    "\n",
    "\n",
    "# Is it what you expected?"
   ]
  },
  {
   "cell_type": "markdown",
   "metadata": {},
   "source": [
    "## String Formatting\n",
    "### Line Breaks\n",
    "The set of characters ```\\n``` creates a new line within a string. This is mostly useful when printing strings.  \n",
    "\n",
    "### Variables inside a String\n",
    "Say you have two variables, a string called ```name``` and an integer called ```age```. If you want to print \"Hi, my name is [name], and I am [age] years old,\" you could always type\n",
    "\n",
    "```print(\"Hi, my name is \",name,\", and I am \",age,\" years old.\")```\n",
    "\n",
    "but that's a bit clunky, and it makes it difficult to change the sentence!\n",
    "\n",
    "Instead, we can use placeholders in a string where we want our variables to go. Use ```%s``` as a placeholder for a string, ```%i``` for an integer, and ```%f``` for a float. To truncate a float to **n** decimal places, use ```%.nf``` (for example, ```%.4f``` for 4 decimal places). After the string, list the variables in order inside the parentheses of ```%()```. The previous example becomes much easier to work with:\n",
    "\n",
    "```print(\"Hi, my name is %s and I am %i years old.\"%(name, age))```"
   ]
  },
  {
   "cell_type": "code",
   "execution_count": 27,
   "metadata": {},
   "outputs": [],
   "source": [
    "# Task) Print a string describing our beloved mascot, \n",
    "#       including his name, age, and height (to 2 decimal places)\n",
    "\n",
    "name = \"Temoc\"\n",
    "age = 21\n",
    "height = 1.983452 # Temoc's height in meters (a total guess)\n",
    "\n",
    "#       Write your code below\n",
    "\n",
    "\n",
    "\n"
   ]
  }
 ],
 "metadata": {
  "kernelspec": {
   "display_name": "Python 3",
   "language": "python",
   "name": "python3"
  },
  "language_info": {
   "codemirror_mode": {
    "name": "ipython",
    "version": 3
   },
   "file_extension": ".py",
   "mimetype": "text/x-python",
   "name": "python",
   "nbconvert_exporter": "python",
   "pygments_lexer": "ipython3",
   "version": "3.7.3"
  }
 },
 "nbformat": 4,
 "nbformat_minor": 2
}
